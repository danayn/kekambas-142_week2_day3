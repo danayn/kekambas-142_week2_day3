{
 "cells": [
  {
   "cell_type": "markdown",
   "metadata": {},
   "source": [
    "### Exercise 1"
   ]
  },
  {
   "cell_type": "markdown",
   "metadata": {},
   "source": [
    "Given an array of positive integers `nums`, return a list of all of the negative integers.<br>\n",
    "Ex. 1<br>\n",
    "nums = [1, 3, 5, 7, 8]<br>\n",
    "Expected Output: [-1, -3, -5, -7, -8]<br>\n",
    "\n",
    "Ex. 2<br>\n",
    "nums = [100, 534, 32, 15, 77, 222, 788, 345, 75645, 22]<br>\n",
    "Expected Output: [-100, -534, -32, -15, -77, -222, -788, -345, -75645, -22]<br>"
   ]
  },
  {
   "cell_type": "code",
   "execution_count": null,
   "metadata": {},
   "outputs": [],
   "source": [
    "def ret_negative(nums): # Defining the function\n",
    "    output = []\n",
    "    for i in nums:\n",
    "        if i > 0:\n",
    "            i = i * -1\n",
    "            output.append(i)\n",
    "    \n",
    "    print(output)"
   ]
  },
  {
   "cell_type": "code",
   "execution_count": 5,
   "metadata": {},
   "outputs": [
    {
     "name": "stdout",
     "output_type": "stream",
     "text": [
      "[-1, -3, -5, -7, -8]\n"
     ]
    }
   ],
   "source": [
    "ret_negative([1, 3, 5, 7, 8])"
   ]
  },
  {
   "cell_type": "code",
   "execution_count": 7,
   "metadata": {},
   "outputs": [
    {
     "name": "stdout",
     "output_type": "stream",
     "text": [
      "[-100, -534, -32, -15, -77, -222, -788, -354, -75645, -22]\n"
     ]
    }
   ],
   "source": [
    "ret_negative([100, 534, 32, 15, 77, 222, 788, 354, 75645, 22])\n"
   ]
  },
  {
   "cell_type": "markdown",
   "metadata": {},
   "source": [
    "### Exercise 2"
   ]
  },
  {
   "cell_type": "markdown",
   "metadata": {},
   "source": [
    "Given a string, return a list of all of the digits in the string.<br>\n",
    "Ex. 1 <br>\n",
    "address = \"123 Real Street, Apt. 2, Springfield, OR 43498\"<br>\n",
    "Expected Output: ['1', '2', '3', '2', '4', '3', '4', '9', '8']<br>\n",
    "\n",
    "Ex. 2 <br>\n",
    "sentence = \"My phone number is (555) 555-4321\"<br>\n",
    "Expected Output: ['5', '5', '5', '5', '5', '5', '4', '3', '2', '1']<br>"
   ]
  },
  {
   "cell_type": "code",
   "execution_count": 11,
   "metadata": {},
   "outputs": [],
   "source": [
    "# Hint: Look at the string methods! -- help(str)\n",
    "def ret_digits(str): # Defining the function\n",
    "    output = []\n",
    "    for i in str:\n",
    "        if i.isdigit():\n",
    "            output.append(i)\n",
    "    \n",
    "    print(output)"
   ]
  },
  {
   "cell_type": "code",
   "execution_count": 12,
   "metadata": {},
   "outputs": [
    {
     "name": "stdout",
     "output_type": "stream",
     "text": [
      "['1', '2', '3', '2', '4', '3', '4', '9', '8']\n"
     ]
    }
   ],
   "source": [
    "ret_digits(\"123 Real Street, Apt. 2, Springfield, OR 43498\")"
   ]
  },
  {
   "cell_type": "code",
   "execution_count": 13,
   "metadata": {},
   "outputs": [
    {
     "name": "stdout",
     "output_type": "stream",
     "text": [
      "['5', '5', '5', '5', '5', '5', '4', '3', '2', '1']\n"
     ]
    }
   ],
   "source": [
    "ret_digits(\"My phone number is (555) 555-4321\")"
   ]
  },
  {
   "cell_type": "markdown",
   "metadata": {},
   "source": [
    "### Exercise 3"
   ]
  },
  {
   "cell_type": "markdown",
   "metadata": {},
   "source": [
    "Given a string `digits`, return a **string** of the digits + 1<br>\n",
    "\n",
    "Ex. 1<br>\n",
    "digits = '123'<br>\n",
    "Expected Output: '124'<br>\n",
    "\n",
    "Ex. 2<br>\n",
    "digits = '99'<br>\n",
    "Expected Output: '100'<br>"
   ]
  },
  {
   "cell_type": "code",
   "execution_count": null,
   "metadata": {},
   "outputs": [],
   "source": [
    "def ret_digits(str): # Defining the function\n",
    "    output = []\n",
    "    for i in str:\n",
    "        if i.isdigit():\n",
    "            i\n",
    "            output.append(i)\n",
    "    \n",
    "    print(output)"
   ]
  }
 ],
 "metadata": {
  "kernelspec": {
   "display_name": "Python 3 (ipykernel)",
   "language": "python",
   "name": "python3"
  },
  "language_info": {
   "codemirror_mode": {
    "name": "ipython",
    "version": 3
   },
   "file_extension": ".py",
   "mimetype": "text/x-python",
   "name": "python",
   "nbconvert_exporter": "python",
   "pygments_lexer": "ipython3",
   "version": "3.9.13"
  }
 },
 "nbformat": 4,
 "nbformat_minor": 4
}
